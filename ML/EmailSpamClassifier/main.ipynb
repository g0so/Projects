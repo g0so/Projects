{
 "cells": [
  {
   "cell_type": "code",
   "execution_count": 2,
   "id": "b8b4ad4d",
   "metadata": {},
   "outputs": [],
   "source": [
    "import string\n",
    "\n",
    "import numpy as np\n",
    "import pandas as pd\n",
    "\n",
    "import nltk \n",
    "from nltk.corpus import stopwords #this is a list of words that are commonly used in a language and do not carry significant meaning\n",
    "from nltk.stem.porter import PorterStemmer #a class to reduce words to their root form\n",
    "from sklearn.feature_extraction.text import CountVectorizer #takes the text and converts into a matrix of token counts\n",
    "from sklearn.model_selection import train_test_split #splits the dataset into training and testing sets\n",
    "from sklearn.ensemble import RandomForestClassifier #a machine learning model that uses multiple decision trees to make predictions"
   ]
  },
  {
   "cell_type": "code",
   "execution_count": 4,
   "id": "a6b7503f",
   "metadata": {},
   "outputs": [
    {
     "name": "stderr",
     "output_type": "stream",
     "text": [
      "[nltk_data] Downloading package stopwords to\n",
      "[nltk_data]     C:\\Users\\saket\\AppData\\Roaming\\nltk_data...\n",
      "[nltk_data]   Package stopwords is already up-to-date!\n"
     ]
    },
    {
     "data": {
      "text/plain": [
       "True"
      ]
     },
     "execution_count": 4,
     "metadata": {},
     "output_type": "execute_result"
    }
   ],
   "source": [
    "nltk.download('stopwords')"
   ]
  },
  {
   "cell_type": "code",
   "execution_count": 9,
   "id": "cfd45a2e",
   "metadata": {},
   "outputs": [],
   "source": [
    "df = pd.read_csv('spam_ham_dataset.csv')"
   ]
  },
  {
   "cell_type": "code",
   "execution_count": 12,
   "id": "5d77b711",
   "metadata": {},
   "outputs": [],
   "source": [
    "#we will get rid of stuff like \"\\r\", \"\\n\" with white spaces\n",
    "df['text'] = df['text'].apply(lambda x: x.replace('\\r\\n', ' '))"
   ]
  },
  {
   "cell_type": "code",
   "execution_count": null,
   "id": "4133d2c9",
   "metadata": {},
   "outputs": [
    {
     "name": "stdout",
     "output_type": "stream",
     "text": [
      "<class 'pandas.core.frame.DataFrame'>\n",
      "RangeIndex: 5171 entries, 0 to 5170\n",
      "Data columns (total 4 columns):\n",
      " #   Column      Non-Null Count  Dtype \n",
      "---  ------      --------------  ----- \n",
      " 0   Unnamed: 0  5171 non-null   int64 \n",
      " 1   label       5171 non-null   object\n",
      " 2   text        5171 non-null   object\n",
      " 3   label_num   5171 non-null   int64 \n",
      "dtypes: int64(2), object(2)\n",
      "memory usage: 161.7+ KB\n"
     ]
    }
   ],
   "source": [
    "df.info() #to check if we have any missing values\n",
    "df.text.iloc[2] #to look a specific example"
   ]
  },
  {
   "cell_type": "code",
   "execution_count": 18,
   "id": "2edd8a3c",
   "metadata": {},
   "outputs": [],
   "source": [
    "#we will remove punctuation and convert to lower case\n",
    "stemmer = PorterStemmer() #to reduce words to their root form\n",
    "corpus = [] #to store the cleaned text\n",
    "\n",
    "stopwords_set = set(stopwords.words('english')) #this will remove common words like \"the\", \"is\", \"in\", etc\n",
    "\n",
    "for i in range(len(df)):\n",
    "    text = df['text'].iloc[i].lower()\n",
    "    text = text.translate(str.maketrans('', '', string.punctuation)).split() #removes punctuation and splits into words\n",
    "    text = [stemmer.stem(word) for word in text if word not in stopwords_set] #take the word and reduce it to its root form if it is not a stop word\n",
    "    text = ' '.join(text) #join the words back into a single string\n",
    "    corpus.append(text) #add the cleaned text to corpus"
   ]
  },
  {
   "cell_type": "code",
   "execution_count": null,
   "id": "473a091f",
   "metadata": {},
   "outputs": [
    {
     "name": "stdout",
     "output_type": "stream",
     "text": [
      "5171\n"
     ]
    }
   ],
   "source": [
    "for i in range(10):\n",
    "    print(corpus[i], end = \", \")"
   ]
  }
 ],
 "metadata": {
  "kernelspec": {
   "display_name": "Python 3",
   "language": "python",
   "name": "python3"
  },
  "language_info": {
   "codemirror_mode": {
    "name": "ipython",
    "version": 3
   },
   "file_extension": ".py",
   "mimetype": "text/x-python",
   "name": "python",
   "nbconvert_exporter": "python",
   "pygments_lexer": "ipython3",
   "version": "3.12.10"
  }
 },
 "nbformat": 4,
 "nbformat_minor": 5
}
